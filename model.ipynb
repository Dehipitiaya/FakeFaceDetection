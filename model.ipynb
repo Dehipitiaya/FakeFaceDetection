{
  "nbformat": 4,
  "nbformat_minor": 0,
  "metadata": {
    "colab": {
      "provenance": []
    },
    "kernelspec": {
      "name": "python3",
      "display_name": "Python 3"
    },
    "language_info": {
      "name": "python"
    }
  },
  "cells": [
    {
      "cell_type": "code",
      "execution_count": null,
      "metadata": {
        "colab": {
          "base_uri": "https://localhost:8080/"
        },
        "id": "KkZCg66ndDzb",
        "outputId": "9de5d482-7b77-4f41-ec5f-89265c0dff2f"
      },
      "outputs": [
        {
          "output_type": "stream",
          "name": "stdout",
          "text": [
            "--2024-06-29 20:08:38--  https://drive.google.com/uc?export=download\n",
            "Resolving drive.google.com (drive.google.com)... 172.217.214.101, 172.217.214.138, 172.217.214.102, ...\n",
            "Connecting to drive.google.com (drive.google.com)|172.217.214.101|:443... connected.\n",
            "HTTP request sent, awaiting response... 400 Bad Request\n",
            "2024-06-29 20:08:38 ERROR 400: Bad Request.\n",
            "\n",
            "unzip:  cannot find or open Real, Real.zip or Real.ZIP.\n"
          ]
        }
      ],
      "source": [
        "import zipfile\n",
        "!wget https://drive.google.com/uc?export=download&id=16y2xEwwuf1v_W0BUDv1thzpNu_dnaJZ1\n",
        "!unzip Real and Fake Face Detection Dataset.zip"
      ]
    },
    {
      "cell_type": "markdown",
      "source": [
        "**Import Necessary Libraries**"
      ],
      "metadata": {
        "id": "9RiAbp4QolmM"
      }
    },
    {
      "cell_type": "code",
      "source": [
        "import os\n",
        "import numpy as np\n",
        "import pandas as pd\n",
        "import matplotlib.pyplot as plt\n",
        "import tensorflow as tf\n",
        "from tensorflow.keras.preprocessing.image import ImageDataGenerator\n",
        "from sklearn.model_selection import train_test_split\n",
        "from tensorflow.keras.models import Sequential\n",
        "from tensorflow.keras.layers import Conv2D, MaxPooling2D, Flatten, Dense, Dropout\n",
        "\n",
        "# Check TensorFlow version\n",
        "print(tf.__version__)\n"
      ],
      "metadata": {
        "colab": {
          "base_uri": "https://localhost:8080/"
        },
        "id": "gLWzx2Xlor1w",
        "outputId": "e1a080d4-f352-41f6-b8ee-143030926bca"
      },
      "execution_count": null,
      "outputs": [
        {
          "output_type": "stream",
          "name": "stdout",
          "text": [
            "2.15.0\n"
          ]
        }
      ]
    },
    {
      "cell_type": "markdown",
      "source": [
        "**Split the Data into Training and Validation Sets**"
      ],
      "metadata": {
        "id": "1ipjloRupYhK"
      }
    },
    {
      "cell_type": "code",
      "source": [
        "# Define the paths to the dataset folders\n",
        "dataset_dir = '/content/drive/MyDrive/Real and Fake Face Detection Dataset'\n",
        "real_dir = os.path.join(dataset_dir, 'Real')\n",
        "fake_dir = os.path.join(dataset_dir, 'Fake')\n",
        "\n",
        "# Create lists to hold file paths and labels\n",
        "file_paths = []\n",
        "labels = []\n",
        "\n",
        "# Add real images\n",
        "for file_name in os.listdir(real_dir):\n",
        "    file_paths.append(os.path.join(real_dir, file_name))\n",
        "    labels.append('Real')\n",
        "\n",
        "# Add fake images\n",
        "for file_name in os.listdir(fake_dir):\n",
        "    file_paths.append(os.path.join(fake_dir, file_name))\n",
        "    labels.append('Fake')\n",
        "\n",
        "# Convert to numpy arrays\n",
        "file_paths = np.array(file_paths)\n",
        "labels = np.array(labels)\n",
        "\n",
        "# Split the data\n",
        "train_paths, val_paths, train_labels, val_labels = train_test_split(file_paths, labels, test_size=0.2, stratify=labels, random_state=42)\n",
        "\n",
        "# Convert to DataFrame for use with ImageDataGenerator\n",
        "train_df = pd.DataFrame({'filename': train_paths, 'class': train_labels})\n",
        "val_df = pd.DataFrame({'filename': val_paths, 'class': val_labels})\n"
      ],
      "metadata": {
        "id": "hF-hTXX0pf8u"
      },
      "execution_count": null,
      "outputs": []
    },
    {
      "cell_type": "markdown",
      "source": [
        "**Create ImageDataGenerators**"
      ],
      "metadata": {
        "id": "tbfo8bbppkq6"
      }
    },
    {
      "cell_type": "code",
      "source": [
        "# Create ImageDataGenerators for training and validation with data augmentation for training\n",
        "train_datagen = ImageDataGenerator(\n",
        "    rescale=1./255,\n",
        "    rotation_range=40,\n",
        "    width_shift_range=0.2,\n",
        "    height_shift_range=0.2,\n",
        "    shear_range=0.2,\n",
        "    zoom_range=0.2,\n",
        "    horizontal_flip=True,\n",
        "    fill_mode='nearest'\n",
        ")\n",
        "val_datagen = ImageDataGenerator(rescale=1./255)\n",
        "\n",
        "train_generator = train_datagen.flow_from_dataframe(\n",
        "    train_df,\n",
        "    x_col='filename',\n",
        "    y_col='class',\n",
        "    target_size=(150, 150),\n",
        "    batch_size=32,\n",
        "    class_mode='binary'\n",
        ")\n",
        "\n",
        "val_generator = val_datagen.flow_from_dataframe(\n",
        "    val_df,\n",
        "    x_col='filename',\n",
        "    y_col='class',\n",
        "    target_size=(150, 150),\n",
        "    batch_size=32,\n",
        "    class_mode='binary'\n",
        ")\n"
      ],
      "metadata": {
        "id": "s5ux9Vk2ppTZ",
        "colab": {
          "base_uri": "https://localhost:8080/"
        },
        "outputId": "6d1d02dd-2899-46cb-cda8-9848e2f8a708"
      },
      "execution_count": null,
      "outputs": [
        {
          "output_type": "stream",
          "name": "stdout",
          "text": [
            "Found 1632 validated image filenames belonging to 2 classes.\n",
            "Found 408 validated image filenames belonging to 2 classes.\n"
          ]
        }
      ]
    },
    {
      "cell_type": "markdown",
      "source": [
        "**Create the Model**"
      ],
      "metadata": {
        "id": "1fYFfGXipsJB"
      }
    },
    {
      "cell_type": "code",
      "source": [
        "from tensorflow.keras.regularizers import l2\n",
        "\n",
        "model = Sequential([\n",
        "    Conv2D(32, (3, 3), activation='relu', input_shape=(150, 150, 3), kernel_regularizer=l2(0.001)),\n",
        "    MaxPooling2D((2, 2)),\n",
        "    Dropout(0.2),\n",
        "    Conv2D(64, (3, 3), activation='relu', kernel_regularizer=l2(0.001)),\n",
        "    MaxPooling2D((2, 2)),\n",
        "    Dropout(0.2),\n",
        "    Conv2D(128, (3, 3), activation='relu', kernel_regularizer=l2(0.001)),\n",
        "    MaxPooling2D((2, 2)),\n",
        "    Dropout(0.2),\n",
        "    Flatten(),\n",
        "    Dense(512, activation='relu', kernel_regularizer=l2(0.001)),\n",
        "    Dropout(0.5),\n",
        "    Dense(1, activation='sigmoid')\n",
        "])\n",
        "\n",
        "model.compile(optimizer='adam',\n",
        "              loss='binary_crossentropy',\n",
        "              metrics=['accuracy'])\n",
        "\n",
        "model.summary()\n"
      ],
      "metadata": {
        "id": "2LCbYNiJqPOZ",
        "colab": {
          "base_uri": "https://localhost:8080/"
        },
        "outputId": "7a89d4bd-1801-4f14-d9c9-45502940a404"
      },
      "execution_count": null,
      "outputs": [
        {
          "output_type": "stream",
          "name": "stdout",
          "text": [
            "Model: \"sequential_1\"\n",
            "_________________________________________________________________\n",
            " Layer (type)                Output Shape              Param #   \n",
            "=================================================================\n",
            " conv2d_3 (Conv2D)           (None, 148, 148, 32)      896       \n",
            "                                                                 \n",
            " max_pooling2d_3 (MaxPoolin  (None, 74, 74, 32)        0         \n",
            " g2D)                                                            \n",
            "                                                                 \n",
            " dropout_1 (Dropout)         (None, 74, 74, 32)        0         \n",
            "                                                                 \n",
            " conv2d_4 (Conv2D)           (None, 72, 72, 64)        18496     \n",
            "                                                                 \n",
            " max_pooling2d_4 (MaxPoolin  (None, 36, 36, 64)        0         \n",
            " g2D)                                                            \n",
            "                                                                 \n",
            " dropout_2 (Dropout)         (None, 36, 36, 64)        0         \n",
            "                                                                 \n",
            " conv2d_5 (Conv2D)           (None, 34, 34, 128)       73856     \n",
            "                                                                 \n",
            " max_pooling2d_5 (MaxPoolin  (None, 17, 17, 128)       0         \n",
            " g2D)                                                            \n",
            "                                                                 \n",
            " dropout_3 (Dropout)         (None, 17, 17, 128)       0         \n",
            "                                                                 \n",
            " flatten_1 (Flatten)         (None, 36992)             0         \n",
            "                                                                 \n",
            " dense_2 (Dense)             (None, 512)               18940416  \n",
            "                                                                 \n",
            " dropout_4 (Dropout)         (None, 512)               0         \n",
            "                                                                 \n",
            " dense_3 (Dense)             (None, 1)                 513       \n",
            "                                                                 \n",
            "=================================================================\n",
            "Total params: 19034177 (72.61 MB)\n",
            "Trainable params: 19034177 (72.61 MB)\n",
            "Non-trainable params: 0 (0.00 Byte)\n",
            "_________________________________________________________________\n"
          ]
        }
      ]
    },
    {
      "cell_type": "markdown",
      "source": [
        "**Train the Model**"
      ],
      "metadata": {
        "id": "dWRvdVDsqShO"
      }
    },
    {
      "cell_type": "code",
      "source": [
        "history = model.fit(\n",
        "    train_generator,\n",
        "    steps_per_epoch=train_generator.samples // train_generator.batch_size,\n",
        "    epochs=20,\n",
        "    validation_data=val_generator,\n",
        "    validation_steps=val_generator.samples // val_generator.batch_size\n",
        ")\n"
      ],
      "metadata": {
        "id": "AmYHAcCeqvh5",
        "colab": {
          "base_uri": "https://localhost:8080/"
        },
        "outputId": "f881725e-ee3f-4dc5-bb92-98df22a31653"
      },
      "execution_count": null,
      "outputs": [
        {
          "output_type": "stream",
          "name": "stdout",
          "text": [
            "Epoch 1/20\n",
            "51/51 [==============================] - 133s 3s/step - loss: 1.5841 - accuracy: 0.5233 - val_loss: 1.1514 - val_accuracy: 0.5312\n",
            "Epoch 2/20\n",
            "51/51 [==============================] - 130s 3s/step - loss: 1.0289 - accuracy: 0.5190 - val_loss: 0.9392 - val_accuracy: 0.5286\n",
            "Epoch 3/20\n",
            "51/51 [==============================] - 128s 3s/step - loss: 0.8920 - accuracy: 0.5294 - val_loss: 0.8538 - val_accuracy: 0.5208\n",
            "Epoch 4/20\n",
            "51/51 [==============================] - 128s 3s/step - loss: 0.8294 - accuracy: 0.5294 - val_loss: 0.8087 - val_accuracy: 0.5312\n",
            "Epoch 5/20\n",
            "51/51 [==============================] - 130s 3s/step - loss: 0.7954 - accuracy: 0.5294 - val_loss: 0.7830 - val_accuracy: 0.5339\n",
            "Epoch 6/20\n",
            "51/51 [==============================] - 129s 3s/step - loss: 0.7750 - accuracy: 0.5294 - val_loss: 0.7661 - val_accuracy: 0.5391\n",
            "Epoch 7/20\n",
            "51/51 [==============================] - 129s 3s/step - loss: 0.7617 - accuracy: 0.5294 - val_loss: 0.7560 - val_accuracy: 0.5312\n",
            "Epoch 8/20\n",
            "51/51 [==============================] - 130s 3s/step - loss: 0.7524 - accuracy: 0.5294 - val_loss: 0.7482 - val_accuracy: 0.5286\n",
            "Epoch 9/20\n",
            "51/51 [==============================] - 131s 3s/step - loss: 0.7451 - accuracy: 0.5294 - val_loss: 0.7421 - val_accuracy: 0.5286\n",
            "Epoch 10/20\n",
            "51/51 [==============================] - 128s 3s/step - loss: 0.7395 - accuracy: 0.5294 - val_loss: 0.7365 - val_accuracy: 0.5339\n",
            "Epoch 11/20\n",
            "51/51 [==============================] - 130s 3s/step - loss: 0.7349 - accuracy: 0.5294 - val_loss: 0.7325 - val_accuracy: 0.5339\n",
            "Epoch 12/20\n",
            "51/51 [==============================] - 129s 2s/step - loss: 0.7311 - accuracy: 0.5294 - val_loss: 0.7295 - val_accuracy: 0.5286\n",
            "Epoch 13/20\n",
            "51/51 [==============================] - 129s 3s/step - loss: 0.7279 - accuracy: 0.5294 - val_loss: 0.7262 - val_accuracy: 0.5312\n",
            "Epoch 14/20\n",
            "51/51 [==============================] - 141s 3s/step - loss: 0.7269 - accuracy: 0.5294 - val_loss: 0.7249 - val_accuracy: 0.5339\n",
            "Epoch 15/20\n",
            "51/51 [==============================] - 128s 3s/step - loss: 0.7241 - accuracy: 0.5294 - val_loss: 0.7216 - val_accuracy: 0.5365\n",
            "Epoch 16/20\n",
            "51/51 [==============================] - 130s 3s/step - loss: 0.7218 - accuracy: 0.5300 - val_loss: 0.7186 - val_accuracy: 0.5417\n",
            "Epoch 17/20\n",
            "51/51 [==============================] - 128s 2s/step - loss: 0.7191 - accuracy: 0.5294 - val_loss: 0.7189 - val_accuracy: 0.5208\n",
            "Epoch 18/20\n",
            "51/51 [==============================] - 130s 3s/step - loss: 0.7168 - accuracy: 0.5294 - val_loss: 0.7164 - val_accuracy: 0.5234\n",
            "Epoch 19/20\n",
            "51/51 [==============================] - 128s 3s/step - loss: 0.7151 - accuracy: 0.5294 - val_loss: 0.7139 - val_accuracy: 0.5286\n",
            "Epoch 20/20\n",
            "51/51 [==============================] - 127s 2s/step - loss: 0.7134 - accuracy: 0.5294 - val_loss: 0.7111 - val_accuracy: 0.5391\n"
          ]
        }
      ]
    },
    {
      "cell_type": "markdown",
      "source": [
        "**Evaluate the Model**"
      ],
      "metadata": {
        "id": "K1S2SP3JqyAD"
      }
    },
    {
      "cell_type": "code",
      "source": [
        "# Plot training & validation accuracy values\n",
        "plt.figure(figsize=(12, 4))\n",
        "plt.subplot(1, 2, 1)\n",
        "plt.plot(history.history['accuracy'])\n",
        "plt.plot(history.history['val_accuracy'])\n",
        "plt.title('Model accuracy')\n",
        "plt.xlabel('Epoch')\n",
        "plt.ylabel('Accuracy')\n",
        "plt.legend(['Train', 'Validation'], loc='upper left')\n",
        "\n",
        "# Plot training & validation loss values\n",
        "plt.subplot(1, 2, 2)\n",
        "plt.plot(history.history['loss'])\n",
        "plt.plot(history.history['val_loss'])\n",
        "plt.title('Model loss')\n",
        "plt.xlabel('Epoch')\n",
        "plt.ylabel('Loss')\n",
        "plt.legend(['Train', 'Validation'], loc='upper left')\n",
        "\n",
        "plt.show()\n"
      ],
      "metadata": {
        "id": "jKiCnyGUq74R",
        "colab": {
          "base_uri": "https://localhost:8080/",
          "height": 410
        },
        "outputId": "9a4cca03-8f17-4f7f-b57b-267a4d457ff3"
      },
      "execution_count": null,
      "outputs": [
        {
          "output_type": "display_data",
          "data": {
            "text/plain": [
              "<Figure size 1200x400 with 2 Axes>"
            ],
            "image/png": "[encoded data removed]"
          },
          "metadata": {}
        }
      ]
    },
    {
      "cell_type": "markdown",
      "source": [],
      "metadata": {
        "id": "SWKt-oFnq_5M"
      }
    },
    {
      "cell_type": "markdown",
      "source": [
        "**Print Predicted and Actual Labels**"
      ],
      "metadata": {
        "id": "boJ8LE6bylhQ"
      }
    },
    {
      "cell_type": "code",
      "source": [
        "# Load a few images from the validation set\n",
        "sample_val_df = val_df.sample(n=10).reset_index(drop=True)\n",
        "\n",
        "# Create a temporary data generator for the samples\n",
        "sample_val_generator = val_datagen.flow_from_dataframe(\n",
        "    sample_val_df,\n",
        "    x_col='filename',\n",
        "    y_col='class',\n",
        "    target_size=(150, 150),\n",
        "    batch_size=1,\n",
        "    class_mode='binary',\n",
        "    shuffle=False\n",
        ")\n",
        "\n",
        "# Get the filenames and true labels\n",
        "filenames = sample_val_generator.filenames\n",
        "true_labels = sample_val_generator.classes\n",
        "\n",
        "# Predict the labels\n",
        "predictions = model.predict(sample_val_generator)\n",
        "predicted_labels = (predictions > 0.5).astype(int).flatten()\n",
        "\n",
        "# Print actual and predicted labels for the samples\n",
        "for i in range(len(filenames)):\n",
        "    print(f\"Filename: {filenames[i]}\")\n",
        "    print(f\"Actual Label: {'Real' if true_labels[i] == 1 else 'Fake'}\")\n",
        "    print(f\"Predicted Label: {'Real' if predicted_labels[i] == 1 else 'Fake'}\")\n",
        "    print()\n"
      ],
      "metadata": {
        "colab": {
          "base_uri": "https://localhost:8080/"
        },
        "id": "9B9kzhPuypWL",
        "outputId": "682bd28a-c89a-46f4-c505-29c7e7fb78e1"
      },
      "execution_count": null,
      "outputs": [
        {
          "output_type": "stream",
          "name": "stdout",
          "text": [
            "Found 10 validated image filenames belonging to 2 classes.\n",
            "10/10 [==============================] - 0s 27ms/step\n",
            "Filename: /content/drive/MyDrive/Real and Fake Face Detection Dataset/Real/real_00923.jpg\n",
            "Actual Label: Real\n",
            "Predicted Label: Real\n",
            "\n",
            "Filename: /content/drive/MyDrive/Real and Fake Face Detection Dataset/Real/real_00599.jpg\n",
            "Actual Label: Real\n",
            "Predicted Label: Real\n",
            "\n",
            "Filename: /content/drive/MyDrive/Real and Fake Face Detection Dataset/Real/real_00392.jpg\n",
            "Actual Label: Real\n",
            "Predicted Label: Real\n",
            "\n",
            "Filename: /content/drive/MyDrive/Real and Fake Face Detection Dataset/Real/real_00434.jpg\n",
            "Actual Label: Real\n",
            "Predicted Label: Real\n",
            "\n",
            "Filename: /content/drive/MyDrive/Real and Fake Face Detection Dataset/Real/real_01023.jpg\n",
            "Actual Label: Real\n",
            "Predicted Label: Real\n",
            "\n",
            "Filename: /content/drive/MyDrive/Real and Fake Face Detection Dataset/Real/real_00093.jpg\n",
            "Actual Label: Real\n",
            "Predicted Label: Real\n",
            "\n",
            "Filename: /content/drive/MyDrive/Real and Fake Face Detection Dataset/Fake/easy_240_1110.jpg\n",
            "Actual Label: Fake\n",
            "Predicted Label: Real\n",
            "\n",
            "Filename: /content/drive/MyDrive/Real and Fake Face Detection Dataset/Fake/mid_31_1111.jpg\n",
            "Actual Label: Fake\n",
            "Predicted Label: Real\n",
            "\n",
            "Filename: /content/drive/MyDrive/Real and Fake Face Detection Dataset/Fake/hard_100_1111.jpg\n",
            "Actual Label: Fake\n",
            "Predicted Label: Real\n",
            "\n",
            "Filename: /content/drive/MyDrive/Real and Fake Face Detection Dataset/Real/real_01003.jpg\n",
            "Actual Label: Real\n",
            "Predicted Label: Real\n",
            "\n"
          ]
        }
      ]
    }
  ]
}